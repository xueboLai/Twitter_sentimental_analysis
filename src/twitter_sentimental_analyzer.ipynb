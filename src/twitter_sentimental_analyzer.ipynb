{
 "cells": [
  {
   "cell_type": "code",
   "execution_count": 1,
   "metadata": {
    "collapsed": true
   },
   "outputs": [],
   "source": [
    "#for output data out to the csv format\n",
    "import csv\n",
    "#for processing large scale data\n",
    "import pandas as pd\n",
    "#for matrix calculation\n",
    "import numpy as np\n",
    "#for machine leanring modeling\n",
    "import sklearn as skl\n",
    "# the library for twitter api\n",
    "import tweepy\n",
    "\n",
    "\n"
   ]
  },
  {
   "cell_type": "code",
   "execution_count": 2,
   "metadata": {
    "collapsed": true
   },
   "outputs": [],
   "source": [
    "# credential for twitter\n",
    "# Out of privacy, all the below authentications have been taken out, please contact Xuebo Lai for the information; thank you\n",
    "consumer_key = \n",
    "consumer_secret = \n",
    "access_token = \n",
    "access_token_secret = \n",
    "auth = tweepy.OAuthHandler(consumer_key, consumer_secret)\n",
    "auth.set_access_token(access_token, access_token_secret)"
   ]
  },
  {
   "cell_type": "code",
   "execution_count": null,
   "metadata": {
    "collapsed": true
   },
   "outputs": [],
   "source": [
    "#(experiment part can be ignored)\n",
    "\n",
    "#testing: tutorial in http://tweepy.readthedocs.io/en/v3.5.0/getting_started.html by Joshua Roesslein\n",
    "\n",
    "#This is purely a part of testing code to print out home timeline tweets following the tutorial of tweepy\n",
    "\n",
    "api = tweepy.API(auth)\n",
    "\n",
    "public_tweets = api.home_timeline()\n",
    "\n",
    "\n",
    "for aTwe in public_tweets:\n",
    "    print (aTwe.text)\n",
    "    "
   ]
  },
  {
   "cell_type": "code",
   "execution_count": 1,
   "metadata": {},
   "outputs": [
    {
     "name": "stdout",
     "output_type": "stream",
     "text": [
      "\n"
     ]
    }
   ],
   "source": [
    "#obtain twitter data online using tweepy library (Done by Xuebo Lai)\n",
    "\n",
    "api = tweepy.API(auth,wait_on_rate_limit=True)\n",
    "#####opinion upon President Trump\n",
    "# Open/Create a file to append data\n",
    "csvFile = open('outcome1.csv', 'a')\n",
    "#Use csv Writer\n",
    "csvWriter = csv.writer(csvFile)\n",
    "\n",
    "cur = tweepy.Cursor(api.search,q=\"#maga\",count=20000,lang=\"en\")\n",
    "\n",
    "\n",
    "for tweet in cur.items():\n",
    "    print (tweet.created_at, tweet.text)\n",
    "    csvWriter.writerow([tweet.text.encode('utf-8')])\n"
   ]
  },
  {
   "cell_type": "code",
   "execution_count": 9,
   "metadata": {
    "collapsed": true
   },
   "outputs": [],
   "source": [
    "# experiment part (can be ignored)\n",
    "# source: learn from the tutorial: https://rare-technologies.com/word2vec-tutorial/: Xuebo Lai (this part of code is abandonen due to modification of original plan)\n",
    "# playing with toy corpus\n",
    "import gensim\n",
    "from gensim.models import Word2Vec\n",
    "\n",
    "corpus = [['first', 'sentence'], ['second', 'sentence']]\n",
    "# training corpus\n",
    "model = gensim.models.Word2Vec(corpus, min_count=1,sg=1)\n",
    "\n",
    "model.save(\"./modeling.python\")\n",
    "#awakening_model = gensim.models.Word2Vec.load('./modeling.python')\n",
    "#continue training the model when there's new data arrived\n",
    "#model.train(more_sentences)\n"
   ]
  },
  {
   "cell_type": "code",
   "execution_count": 2,
   "metadata": {},
   "outputs": [
    {
     "name": "stdout",
     "output_type": "stream",
     "text": [
      "\n"
     ]
    }
   ],
   "source": [
    "# text Pre-processing: done by Pu Zhao\n",
    "import csv\n",
    "import re\n",
    "\n",
    "def preprocessText(fileName):\n",
    "    print(\"i'm here\")\n",
    "    with open(fileName,'r') as csv_file:\n",
    "        csv_reader = csv.reader(csv_file)\n",
    "\n",
    "        with open('opinion.csv','w') as new_file:\n",
    "            csv_writer = csv.writer(new_file)\n",
    "            lst = []\n",
    "            stop_words = {\"ourselves\", \"hers\", \"between\", \"yourself\", \"but\", \"again\", \"there\", \"about\", \"once\", \"during\", \"out\", \"very\", \"having\", \"with\", \"they\", \"own\", \"an\", \"be\", \"some\", \"for\", \"do\", \"its\", \"yours\", \"such\", \"into\", \"of\", \"most\", \"itself\", \"other\", \"off\", \"is\", \"s\", \"am\", \"or\", \"who\", \"as\", \"from\", \"him\", \"each\", \"the\", \"themselves\", \"until\", \"below\", \"are\", \"we\", \"these\", \"your\", \"his\", \"through\", \"don\", \"nor\", \"me\", \"were\", \"her\", \"more\", \"himself\", \"this\", \"down\", \"should\", \"our\", \"their\", \"while\", \"above\", \"both\", \"up\", \"to\", \"ours\", \"had\", \"she\", \"all\", \"no\", \"when\", \"at\", \"any\", \"before\", \"them\", \"same\", \"and\", \"been\", \"have\", \"in\", \"will\", \"on\", \"does\", \"yourselves\", \"then\", \"that\", \"because\", \"what\", \"over\", \"why\", \"so\", \"can\", \"did\", \"not\", \"now\", \"under\", \"he\", \"you\", \"herself\", \"has\", \"just\", \"where\", \"too\", \"only\", \"myself\", \"which\", \"those\", \"i\", \"after\", \"few\", \"whom\", \"t\", \"being\", \"if\", \"theirs\", \"my\", \"against\", \"a\", \"by\", \"doing\", \"it\", \"how\", \"further\", \"was\", \"here\", \"than\"}\n",
    "            \n",
    "            for line in csv_reader:\n",
    "                insideLine = \"\"\n",
    "               # print (line)\n",
    "               # print (re.split(r'\\s*', line[0]))\n",
    "                line = re.split(r'\\s*', line[0])\n",
    "                #realSentence=False\n",
    "                num = len(line)\n",
    "\n",
    "\n",
    "                for x in range(0, num):\n",
    "                    for currStr in line:\n",
    "                        if currStr==\"b'RT\":\n",
    "                            line.remove(currStr)\n",
    "                        elif currStr.startswith( \"@\" ):\n",
    "                            line.remove(currStr)\n",
    "                        elif currStr.startswith( \"http\" ):\n",
    "                            line.remove(currStr)\n",
    "                        elif (currStr.find(\"\\\\x\") != -1):\n",
    "                            line.remove(currStr)\n",
    "                        elif (currStr.find(\"http\") != -1):\n",
    "                            line.remove(currStr)\n",
    "                        elif (currStr.find(\":\") != -1):\n",
    "                            line.remove(currStr)\n",
    "                        elif (currStr.find(\"-\") != -1):\n",
    "                            line.remove(currStr)\n",
    "                        elif (currStr.find(\":\") != -1):\n",
    "                            line.remove(currStr)\n",
    "                        elif (currStr.find(\"\\\\\") != -1):\n",
    "                            line.remove(currStr)\n",
    "                        elif currStr.startswith( \"#\" ):\n",
    "                            line.remove(currStr)\n",
    "                        elif (currStr.find(\"RT\") != -1):\n",
    "                            line.remove(currStr)\n",
    "                        elif currStr.startswith( \"$QQQ\" ):\n",
    "                            line.remove(currStr)\n",
    "                        elif currStr.startswith( \"$\" ):\n",
    "                            line.remove(currStr)\n",
    "                        elif currStr.startswith( \"b'\" ):\n",
    "                            line.remove(currStr)\n",
    "                        elif currStr in stop_words:\n",
    "                            line.remove(currStr)\n",
    "                            \n",
    "                            \n",
    "                for currStr in line:\n",
    "                    insideLine=insideLine+currStr+\" \"\n",
    "                print(insideLine) \n",
    "                lst.append(insideLine)\n",
    "    return lst\n",
    "\n",
    "\n",
    "            \n",
    "\n",
    "lst_whole = preprocessText('outcome1.csv')\n",
    "\n",
    "lst_train = preprocessText('first200.csv')\n",
    "\n",
    "\n"
   ]
  },
  {
   "cell_type": "code",
   "execution_count": null,
   "metadata": {
    "collapsed": true
   },
   "outputs": [],
   "source": [
    "# using the most naive way with library bowCorpus2Vec in sklearn to build fix length matrix from sentences: (Done by Xuebo Lai)\n",
    "# this way is replaced by the other way below\n",
    "# building fix length matrix from sentences based on pure bag of words: Xuebo Lai\n",
    "# reference:https://machinelearningmastery.com/prepare-text-data-machine-learning-scikit-learn/\n",
    "\n",
    "\n",
    "from sklearn.feature_extraction.text import CountVectorizer\n",
    "corpus = lst\n",
    "# initialize the model\n",
    "countVec = CountVectorizer()\n",
    "#train the model\n",
    "countVec.fit(corpus)\n",
    "bowCorpus2Vec_train = countVec.transform(lst_train)\n",
    "bowCorpus2Vec_whole = countVec.transform(lst_whole)\n",
    "bowSenMatrix_whole = bowCorpus2Vec_whole.toarray()\n",
    "bowSenMatrix_train = bowCorpus2Vec_train.toarray()\n",
    "print(bowSenMatrix)"
   ]
  },
  {
   "cell_type": "code",
   "execution_count": 110,
   "metadata": {},
   "outputs": [
    {
     "name": "stdout",
     "output_type": "stream",
     "text": [
      "[[0. 0. 0. ... 0. 0. 0.]\n",
      " [0. 0. 0. ... 0. 0. 0.]\n",
      " [0. 0. 0. ... 0. 0. 0.]\n",
      " ...\n",
      " [0. 0. 0. ... 0. 0. 0.]\n",
      " [0. 0. 0. ... 0. 0. 0.]\n",
      " [0. 0. 0. ... 0. 0. 0.]]\n"
     ]
    }
   ],
   "source": [
    "#building fix length matrix from sentences based on bag of words and tfidf: (Done by Xuebo Lai)\n",
    "import numpy as np\n",
    "# reference:https://machinelearningmastery.com/prepare-text-data-machine-learning-scikit-learn/\n",
    "from sklearn.feature_extraction.text import TfidfVectorizer\n",
    "corpus_whole = lst_whole\n",
    "corpus_train = lst_train\n",
    "\n",
    "# initialize the model\n",
    "tfidfModeling = TfidfVectorizer()\n",
    "# tokenize and build vocab\n",
    "tfidfModeling.fit(corpus_whole)\n",
    "tfidfCorpus2vector_whole = tfidfModeling.transform(corpus_whole)\n",
    "tfidfCorpus2vector_train = tfidfModeling.transform(corpus_train)\n",
    "# summarize encoded vector\n",
    "tfidfSenMatrix_whole = tfidfCorpus2vector_whole.toarray()\n",
    "tfidfSenMatrix_train = tfidfCorpus2vector_train.toarray()\n",
    "print(tfidfSenMatrix_whole)\n",
    "mean_whole = np.mean(tfidfSenMatrix_whole,axis = 1)\n",
    "mean_train = np.mean(tfidfSenMatrix_train,axis = 1)\n",
    "tfidfSenMatrix_demeaned_whole = tfidfSenMatrix_whole - mean_whole.reshape(-1, 1)\n",
    "tfidfSenMatrix_demeaned_train = tfidfSenMatrix_train - mean_train.reshape(-1, 1)\n",
    "#print(tfidfSenMatrix_demeaned)"
   ]
  },
  {
   "cell_type": "code",
   "execution_count": 111,
   "metadata": {},
   "outputs": [
    {
     "name": "stdout",
     "output_type": "stream",
     "text": [
      "[0.04168584 0.03803612 0.03539676 0.03335938 0.02388671 0.02243968\n",
      " 0.02155577 0.01975771 0.01707469 0.01559297 0.01520436 0.01318052\n",
      " 0.01268367 0.01186336 0.0115569  0.0114547  0.01120283 0.01101406\n",
      " 0.01095675 0.01067236 0.01057865 0.01030219 0.01012935 0.00991803\n",
      " 0.00972218 0.00930321 0.00904067 0.00833214 0.00804608 0.00792136\n",
      " 0.0077474  0.00749406 0.00735663 0.0073079  0.00728626 0.00691539\n",
      " 0.00685458 0.00673597 0.00670829 0.00648024 0.00634966 0.00628804\n",
      " 0.00623    0.00614164 0.0061144  0.0060123  0.00591952 0.00587192\n",
      " 0.00583273 0.00580344 0.00572062 0.00568506 0.00558285 0.00546699\n",
      " 0.00543346 0.00534314 0.00533864 0.00523553 0.00521427 0.0051911 ]\n",
      "[[-0.00470189  0.0400084  -0.08255441 ...  0.00687248  0.14816693\n",
      "  -0.06498704]\n",
      " [-0.08793284 -0.0357589  -0.07375632 ... -0.03610073 -0.01401325\n",
      "   0.03541176]\n",
      " [-0.03775174  0.09518718 -0.15378567 ...  0.00396563 -0.00021651\n",
      "  -0.003419  ]\n",
      " ...\n",
      " [-0.02220152  0.04315015  0.01772628 ... -0.01037697  0.04964456\n",
      "  -0.20098425]\n",
      " [-0.03126119  0.05136429 -0.06227978 ... -0.07435029 -0.00200772\n",
      "   0.12709952]\n",
      " [-0.03228095  0.02683135 -0.06831087 ... -0.0156218   0.1157431\n",
      "   0.01100424]]\n"
     ]
    },
    {
     "data": {
      "text/plain": [
       "'\\nwhen n_component = 30\\n[0.039846   0.03684523 0.02819726 0.02379488 0.02177815 0.02097992\\n 0.01843331 0.0143908  0.01361782 0.01341245 0.01275798 0.01244748\\n 0.01211811 0.011141   0.01099844 0.01054198 0.01020426 0.00980705\\n 0.00953424 0.00921104 0.00840742 0.00802079 0.007936   0.00756229\\n 0.00721607 0.00675032 0.00663969 0.00619519 0.00612309 0.00596416]\\n\\nwhen n_component = 60 \\n[0.039846   0.03684523 0.02819726 0.02379488 0.02177815 0.02097992\\n 0.01843331 0.0143908  0.01361782 0.01341245 0.01275798 0.01244748\\n 0.01211811 0.011141   0.01099845 0.01054202 0.01020434 0.00980708\\n 0.00953433 0.00921117 0.00840786 0.0080215  0.00793807 0.0075651\\n 0.00722541 0.00676371 0.00666353 0.0062591  0.00614571 0.00597462\\n 0.00580688 0.00547201 0.00522128 0.00509472 0.00502346 0.00498197\\n 0.00479641 0.00467298 0.00459899 0.00445661 0.00444436 0.00430059\\n 0.00422962 0.0042204  0.00415524 0.00406495 0.00404429 0.00395383\\n 0.00388272 0.0037599  0.00363596 0.00353589 0.00351245 0.00349201\\n 0.00341183 0.00334164 0.00327173 0.00320776 0.00314606 0.00310194]\\n'"
      ]
     },
     "execution_count": 111,
     "metadata": {},
     "output_type": "execute_result"
    }
   ],
   "source": [
    "# dimension reduction using pca: (Done by Xuebo Lai)\n",
    "# see how much information has been retained and then decide on how many dimensions of data we should retain\n",
    "from sklearn.decomposition import PCA\n",
    "#initialize the model\n",
    "pca_whole = PCA(n_components=60)\n",
    "pca_train = PCA(n_components=60)\n",
    "matrixAfterReduction_whole = pca_whole.fit_transform(tfidfSenMatrix_demeaned_whole)\n",
    "matrixAfterReduction_train = pca_train.fit_transform(tfidfSenMatrix_demeaned_train)\n",
    "print(pca_train.explained_variance_ratio_)\n",
    "print(matrixAfterReduction_train)\n",
    "'''\n",
    "when n_component = 30\n",
    "[0.039846   0.03684523 0.02819726 0.02379488 0.02177815 0.02097992\n",
    " 0.01843331 0.0143908  0.01361782 0.01341245 0.01275798 0.01244748\n",
    " 0.01211811 0.011141   0.01099844 0.01054198 0.01020426 0.00980705\n",
    " 0.00953424 0.00921104 0.00840742 0.00802079 0.007936   0.00756229\n",
    " 0.00721607 0.00675032 0.00663969 0.00619519 0.00612309 0.00596416]\n",
    "\n",
    "when n_component = 60 \n",
    "[0.039846   0.03684523 0.02819726 0.02379488 0.02177815 0.02097992\n",
    " 0.01843331 0.0143908  0.01361782 0.01341245 0.01275798 0.01244748\n",
    " 0.01211811 0.011141   0.01099845 0.01054202 0.01020434 0.00980708\n",
    " 0.00953433 0.00921117 0.00840786 0.0080215  0.00793807 0.0075651\n",
    " 0.00722541 0.00676371 0.00666353 0.0062591  0.00614571 0.00597462\n",
    " 0.00580688 0.00547201 0.00522128 0.00509472 0.00502346 0.00498197\n",
    " 0.00479641 0.00467298 0.00459899 0.00445661 0.00444436 0.00430059\n",
    " 0.00422962 0.0042204  0.00415524 0.00406495 0.00404429 0.00395383\n",
    " 0.00388272 0.0037599  0.00363596 0.00353589 0.00351245 0.00349201\n",
    " 0.00341183 0.00334164 0.00327173 0.00320776 0.00314606 0.00310194]\n",
    "'''\n"
   ]
  },
  {
   "cell_type": "code",
   "execution_count": 155,
   "metadata": {},
   "outputs": [
    {
     "name": "stdout",
     "output_type": "stream",
     "text": [
      "training\n",
      "[[ 0.03152464 -0.06086113 -0.10504067 ... -0.0097421   0.00215493\n",
      "  -0.00451942]\n",
      " [ 0.04123143 -0.03199728 -0.02439005 ...  0.01821594 -0.11454616\n",
      "  -0.11108634]\n",
      " [-0.02130653 -0.07433208 -0.07736242 ... -0.00060549 -0.00354132\n",
      "   0.00073726]\n",
      " ...\n",
      " [-0.02928569  0.01189832 -0.0308775  ... -0.00421463 -0.01210865\n",
      "   0.0014389 ]\n",
      " [-0.02057083 -0.04871224 -0.05929659 ... -0.00358009  0.02413737\n",
      "  -0.03316226]\n",
      " [ 0.0035785  -0.03572513  0.03786513 ...  0.11495658 -0.15181437\n",
      "  -0.22308299]]\n",
      "[-1.  1. -1.  1.  1.  1.  1.  1. -1.  0. -1. -1. -1.  1. -1.  1.  1.  1.\n",
      " -1.  1. -1.  0.  1. -1.  1. -1. -1. -1. -1.  1.  1.  1.  1.  1.  0.  1.\n",
      "  1. -1.  1.  1.  1. -1.  1.  1.  1.  1. -1.  1.  1.  1.  1. -1. -1.  1.\n",
      "  1.  1.  1.  1.  0. -1.  1. -1.  1. -1.  1.  1.  0. -1.  1.  1.  1.  1.\n",
      " -1.  1.  1. -1.  0. -1.  1.  1.  1. -1. -1.  1.  1. -1. -1.  1.  1.  1.\n",
      " -1.  1. -1. -1.  0.  1. -1.  1.  0.  1. -1. -1.  0.  1.  1. -1.  1.  1.\n",
      "  1.  1.  1.  1.  1.  0. -1.  0.  1. -1. -1.  1.  1.  1. -1. -1.  1.  1.\n",
      "  1. -1.  1. -1. -1.  0. -1.  1. -1. -1.  1. -1.  1.  1.  0.  0. -1.  1.\n",
      "  1.  1.  1.  1.  0. -1.  1. -1.  0.  0. -1. -1.  1. -1.  1. -1. -1.  1.\n",
      " -1. -1. -1.  1.  1. -1.  1. -1. -1.  1. -1. -1.  1.  0.  1. -1.  1. -1.\n",
      "  0.  1.  1. -1.  1.  1. -1.  1.  1. -1.  1.  1. -1.  1. -1.  1.  1. -1.\n",
      "  1.  1. -1.  0.  1.  1.  0.  1. -1. -1.  1. -1. -1. -1.  1. -1.  1.  0.\n",
      " -1. -1. -1.  1.  0. -1. -1.  0.  1.  0.  1. -1. -1.  1. -1. -1. -1. -1.\n",
      " -1. -1. -1.  1.  1. -1. -1.  1.  1. -1. -1. -1. -1. -1. -1. -1. -1. -1.\n",
      "  1.  0.  1. -1. -1.  1. -1.  1. -1. -1. -1. -1. -1.  1. -1.  1.  1.  1.\n",
      " -1.  0. -1. -1.  0. -1. -1. -1. -1.  1.  1.  1. -1. -1.  1.  1.  0.  0.\n",
      "  0. -1.  1. -1.  1.  1.  1.  1.  1.  1.  0. -1.  0. -1.  0.  1.  1.  1.\n",
      "  1.  1.  1. -1.  1. -1.  1.  1. -1.  1.  0.  1.  1. -1.  1. -1.  0.  1.\n",
      " -1.  1. -1. -1. -1.  0.  1.  1. -1.  0. -1.  1. -1. -1.  1. -1. -1. -1.\n",
      "  0.  1. -1. -1. -1.  1. -1.  1.  1.  1.  1.  1.  1.  1.  1. -1. -1. -1.\n",
      "  1.  0. -1.  1.  0.  1.  1. -1.  1.  0. -1.  1. -1. -1. -1.  1. -1. -1.\n",
      "  1.  1.  1.  1.  0.  1.  1.  0.  1.  1.  1.  1.  1.  0. -1.  1.  1.  1.\n",
      " -1.  0.  1.  1.  1.  0.  1. -1. -1. -1. -1. -1. -1.  1.  1. -1.  0.  1.\n",
      " -1.  1.  1.  1. -1. -1.  1.  1.  1. -1. -1.  1.  1. -1. -1.  1.  1.  1.\n",
      "  1. -1.  0.  1.  1.  1.  1. -1.  0. -1.  0.  1. -1.  1. -1. -1.  0.  1.\n",
      "  0.  1. -1.  0.  0.  1.  1.  1.  1.  1.  0. -1. -1.  1.  1.  0. -1.  1.\n",
      "  1.  1.  0.  1.  1.  1. -1.  0. -1. -1.  1.  1.  1. -1.  1. -1.  1.  1.\n",
      "  0.  1. -1.  0.  1.  1. -1. -1.  1.  1.  0. -1. -1.  1. -1. -1.  1. -1.\n",
      "  1. -1. -1.  1. -1.  1.  1.  0. -1.  1. -1. -1. -1.  1.  1.  1.  0. -1.\n",
      "  1.  1.  0. -1.  1. -1.  1. -1. -1.  0.  0.  1. -1.  1. -1. -1.  1. -1.\n",
      "  0. -1.  0. -1. -1. -1. -1.  1. -1.  1. -1.  1.  0. -1. -1.  1.  1. -1.\n",
      " -1.  1.  1.  1.  1.  0. -1.  0.  1.  1.  0. -1. -1.  1. -1. -1.  1.  1.\n",
      " -1. -1.  1.  1.  1. -1.  0.  1. -1. -1. -1. -1. -1.  1.  1. -1. -1.  1.\n",
      "  1.  1. -1.  1. -1.  0.  1.  1. -1. -1.  1.  0. -1. -1.  1. -1. -1.  1.\n",
      "  1.  0. -1.  0.  1.  1.  1.  1. -1. -1. -1.  1. -1.  1.  1.  1.  1. -1.\n",
      "  1.  1. -1. -1.  1.  1. -1.  1.  0.  1.  0.  1. -1.  0. -1. -1. -1. -1.\n",
      "  1.  0.  1. -1. -1. -1.  1.  0. -1.  1.  1. -1.  1. -1. -1.  1.  1. -1.\n",
      "  1.  0.  0. -1.  1.  1. -1. -1.  1. -1.  1.  0. -1.  0. -1. -1.  1. -1.\n",
      "  1.  1. -1.  0.  1.  0. -1.  1.  0. -1.  0.  1.  1.  1. -1.  1.  1. -1.\n",
      " -1. -1.  1.  1. -1.  0. -1.  1. -1.  1. -1. -1.  1. -1.  1. -1.  1. -1.\n",
      " -1.  1. -1.  1.  1.  0. -1.  0.  1.  1. -1. -1.  0.  1. -1. -1.  0.  1.\n",
      " -1. -1. -1.  1.  1. -1.  1. -1.  1.  0. -1. -1.]\n"
     ]
    }
   ],
   "source": [
    "#obtaining training data (Done by Xuebo Lai)\n",
    "dataset = np.genfromtxt(\"./200y.csv\",delimiter=\",\")\n",
    "x_train = matrixAfterReduction_whole[0:750,:]\n",
    "y_train = dataset[:750]\n",
    "y_train[0] = -1\n",
    "#y_train = np.append(y_train,y_train[0])\n",
    "print(\"training\")\n",
    "print(x_train)\n",
    "print(y_train)\n"
   ]
  },
  {
   "cell_type": "code",
   "execution_count": 157,
   "metadata": {},
   "outputs": [
    {
     "name": "stdout",
     "output_type": "stream",
     "text": [
      "validation\n",
      "[[-4.51872065e-02 -3.49168507e-02 -1.55751113e-02 ... -7.84080332e-02\n",
      "  -2.09673534e-02 -1.93456949e-02]\n",
      " [ 7.53643435e-03 -3.53967030e-02  1.76478498e-02 ... -2.23389687e-02\n",
      "   1.03855240e-02  2.14610406e-02]\n",
      " [-1.42429389e-01 -2.32705008e-01  8.80875912e-01 ...  2.88724145e-03\n",
      "  -3.97382115e-05  2.99527372e-03]\n",
      " ...\n",
      " [-1.94227052e-02 -8.24350215e-02  4.17046118e-02 ... -4.00435376e-02\n",
      "   9.28293020e-02  1.13459369e-02]\n",
      " [-3.48571957e-02 -1.09848808e-01 -6.81942433e-02 ...  1.21963710e-03\n",
      "  -9.61427624e-03  8.95600923e-03]\n",
      " [-3.94265623e-02 -3.49908719e-02  4.72304541e-02 ...  1.29682364e-03\n",
      "   4.16949269e-02  1.79784318e-02]]\n",
      "[ 0. -1. -1.  1.  1. -1.  1. -1.  1.  1. -1.  1. -1. -1.  1.  1.  1.  1.\n",
      " -1. -1.  1. -1. -1.  0. -1. -1.  1.  0.  1. -1. -1. -1.  1.  1.  1. -1.\n",
      "  0.  0. -1.  1.  1.  1.  1.  1.  1. -1.  0.  1.  0.  1.]\n"
     ]
    }
   ],
   "source": [
    "#obtaining validation data (Done by Xuebo Lai)\n",
    "x_val = matrixAfterReduction_whole[750:800,:]\n",
    "y_val = dataset[750:800]\n",
    "print(\"validation\")\n",
    "print(x_val)\n",
    "print(y_val)\n",
    "#x_validation\n"
   ]
  },
  {
   "cell_type": "code",
   "execution_count": 156,
   "metadata": {},
   "outputs": [
    {
     "data": {
      "text/plain": [
       "<matplotlib.colorbar.Colorbar at 0x1066bf6a0>"
      ]
     },
     "execution_count": 156,
     "metadata": {},
     "output_type": "execute_result"
    },
    {
     "data": {
      "image/png": "[encoded data removed]",
      "text/plain": [
       "<matplotlib.figure.Figure at 0x106a6ff28>"
      ]
     },
     "metadata": {},
     "output_type": "display_data"
    }
   ],
   "source": [
    "#using two dimensions of the data after dimension reduction to visualize data (Done by Xuebo Lai)\n",
    "import matplotlib.pyplot as plt\n",
    "%matplotlib inline\n",
    "plt.figure(figsize=(8, 6))\n",
    "plt.scatter(x_train[:, 0], x_train[:, 1], c = y_train)\n",
    "plt.colorbar()"
   ]
  },
  {
   "cell_type": "code",
   "execution_count": 160,
   "metadata": {},
   "outputs": [
    {
     "name": "stdout",
     "output_type": "stream",
     "text": [
      "491\n",
      "The training accuracy for neural network is  77.2 %\n",
      "The validation accuracy for neural network is  80.0 %\n"
     ]
    }
   ],
   "source": [
    "# using model logistic to train and obtain the accuracy result (Done by Xuebo Lai)\n",
    "#import library\n",
    "import sklearn\n",
    "from sklearn.linear_model import LogisticRegression as Logistic\n",
    "import numpy as np\n",
    "\n",
    "#model \n",
    "#initialize the model\n",
    "logistic = Logistic(solver='sag',multi_class=\"multinomial\")\n",
    "#training the model:\n",
    "logistic.fit(x_train, y_train)\n",
    "\n",
    "log_accuracy_emp = (np.sum(logistic.predict(x_train) == y_train))/np.float(len(y_train))\n",
    "log_accuracy_val = (np.sum(logistic.predict(x_val) == y_val))/np.float(len(y_val))\n",
    "\n",
    "print(\"The training accuracy for neural network is \",(log_accuracy_emp*100),\"%\")\n",
    "print(\"The validation accuracy for neural network is \",(log_accuracy_val*100),\"%\")"
   ]
  },
  {
   "cell_type": "code",
   "execution_count": 153,
   "metadata": {},
   "outputs": [
    {
     "name": "stdout",
     "output_type": "stream",
     "text": [
      "The empirical cost for neural network is  82.66666666666667 %\n",
      "The validation accuracy for neural network is  78.0 %\n"
     ]
    }
   ],
   "source": [
    "# using model neural network to train and obtain the accuracy result (Done by Xuebo Lai)\n",
    "from sklearn.neural_network import MLPClassifier\n",
    "import numpy as np\n",
    "\n",
    "#model \n",
    "#initialize the model\n",
    "neural_net = MLPClassifier(solver='lbfgs', alpha=0.0001,hidden_layer_sizes=(50,50))\n",
    "#training the model:\n",
    "neural_net.fit(x_train, y_train)\n",
    "\n",
    "neu_accuracy_emp = (np.sum(neural_net.predict(x_train) == y_train))/np.float(len(y_train))\n",
    "neu_accuracy_val = (np.sum(neural_net.predict(x_val) == y_val))/np.float(len(y_val))\n",
    "\n",
    "print(\"The training accuracy for neural network is \",(neu_accuracy_emp*100),\"%\")\n",
    "print(\"The validation accuracy for neural network is \",(neu_accuracy_val*100),\"%\")"
   ]
  },
  {
   "cell_type": "code",
   "execution_count": 165,
   "metadata": {},
   "outputs": [
    {
     "name": "stdout",
     "output_type": "stream",
     "text": [
      "There are 66.28113879003558 % of people think the tag #maga is positive. ( 11920 people)\n",
      "There are 7.545596085409252 % of people think the tag #maga is neutral. ( 1357 people)\n",
      "There are 26.17326512455516 % of people think the tag #maga is negative. ( 4707 people)\n"
     ]
    }
   ],
   "source": [
    "#generating statistic result (Done by Xuebo Lai)\n",
    "import collections\n",
    "prediction = logistic.predict(matrixAfterReduction_whole)\n",
    "final_result = collections.Counter(prediction)\n",
    "total_count = len(matrixAfterReduction_whole)\n",
    "positive_result = final_result[1.0]\n",
    "positive_percentage = (positive_result)/len(matrixAfterReduction_whole)\n",
    "neutral_result = final_result[0.0]\n",
    "neutral_percentage = (neutral_result)/len(matrixAfterReduction_whole)\n",
    "negative_result = final_result[-1.0]\n",
    "negative_percentage = (negative_result)/len(matrixAfterReduction_whole)\n",
    "print(\"There are\",(positive_percentage*100),\"% of people think the tag #maga is positive. (\",positive_result,\"people)\")\n",
    "print(\"There are\",(neutral_percentage*100),\"% of people think the tag #maga is neutral. (\",neutral_result,\"people)\")\n",
    "print(\"There are\",(negative_percentage*100),\"% of people think the tag #maga is negative. (\",negative_result,\"people)\")"
   ]
  },
  {
   "cell_type": "code",
   "execution_count": null,
   "metadata": {
    "collapsed": true
   },
   "outputs": [],
   "source": []
  }
 ],
 "metadata": {
  "kernelspec": {
   "display_name": "Python 3",
   "language": "python",
   "name": "python3"
  },
  "language_info": {
   "codemirror_mode": {
    "name": "ipython",
    "version": 3
   },
   "file_extension": ".py",
   "mimetype": "text/x-python",
   "name": "python",
   "nbconvert_exporter": "python",
   "pygments_lexer": "ipython3",
   "version": "3.6.1"
  }
 },
 "nbformat": 4,
 "nbformat_minor": 2
}
